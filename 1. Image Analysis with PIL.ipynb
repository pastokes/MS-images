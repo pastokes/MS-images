{
 "cells": [
  {
   "cell_type": "markdown",
   "metadata": {},
   "source": [
    "**By Peter A. Stokes, École Pratique des Hautes Études – Université PSL**\n",
    "\n",
    "\n",
    "_These are brief notes summarising the key points of image analysis and manipulation using Python. They are intended as teaching aids for the course on 'Image Processing with Python' which is part of the École d'été d'éditions numériques / humanités numériques (EDEEN). For more details see https://edeen.sciencesconf.org. They assume a pre-existing directory structure with images of Cambridge, Corpus Christi College MS 44 which can be obtained from Parker on the Web: https://parker.stanford.edu_.\n",
    "\n",
    "_If you are viewing this in Jupyter then you can edit the code simply by typing in the boxes. You can also execute the code in any box by clicking on the box and typing SHIFT + ENTER or using the 'Run' button in the menubar above._\n"
   ]
  },
  {
   "cell_type": "markdown",
   "metadata": {},
   "source": [
    "# Python basics\n",
    "\n",
    "This section gives a very brief summary of the basics of the Python 3 programming language. If you already know Python 3 then you can skip this section. If you know an earlier version of Python such as Python 2.7, then you can also skip this section, but be aware that `print 'hello'` is no longer valid: in Python 3 you must always include the parentheses, so `print('hello')` instead."
   ]
  },
  {
   "cell_type": "markdown",
   "metadata": {},
   "source": [
    "## Variables\n",
    "\n",
    "To create a new variable for storing data in memory, simply provide a unique name for that variable and use `=` to assign the content. Note that you can re-assign different content to an existing variable, in which case the new content will simply replace the old (hence the name 'variable'). You can have as many different variables as you like, as long as your computer doesn't run out of RAM. This is unlikely with modern computers, but it is possible if you have very large images.\n",
    "\n",
    "Notice also the `#` symbol. This is to signal a 'comment': i.e. everything after `#` on that line is a comment for us humans to read and so will be ignored by Python. It is very good practice to add comments as a reminder to you and a message to others of what your code does. You will be grateful when you come back to your code in a year's time!"
   ]
  },
  {
   "cell_type": "code",
   "execution_count": null,
   "metadata": {},
   "outputs": [],
   "source": [
    "a = 1      # Stores the integer (whole number) value 1 in the variable a\n",
    "b = 2.0    # Stores the decimal value 2.0 in the variable b\n",
    "\n",
    "c = a + b  # Stores the decimal value 3.0 (1 + 2.0) in the variable c\n",
    "c = c + 1  # Stores the decimal value 4.0 (3.0 + 1) in the variable c\n",
    "\n",
    "d = c / b  # Stores the decimal value of c divided by b into the variable d\n",
    "e = b * c  # Stores the decimal value of b multiplied by c into the variable f\n",
    "\n",
    "print(c)   # Prints the value currently stored in c (i.e. 4)\n",
    "print(d)\n",
    "print(e)\n"
   ]
  },
  {
   "cell_type": "markdown",
   "metadata": {},
   "source": [
    "Variables do not have to contain numbers but they can contain many things, including images (as we will see soon). Another common type of data is a string, namely a series of characters:"
   ]
  },
  {
   "cell_type": "code",
   "execution_count": null,
   "metadata": {},
   "outputs": [],
   "source": [
    "s1 = 'This is a string. It must be enclosed in single quotes.'\n",
    "s2 = 'The single quotes tell Python that it is a string.'\n",
    "s3 = 'Otherwise, Python might think that it is the name of a variable.'\n",
    "\n",
    "print(s1)\n",
    "print(s2)\n",
    "print(s3)\n",
    "\n",
    "print('You can also print a string directly without storing it first.')\n",
    "print(s1, s2, s3) # Notice what happens here"
   ]
  },
  {
   "cell_type": "markdown",
   "metadata": {},
   "source": [
    "## Libraries\n",
    "\n",
    "If you want to use a library of existing code then you **must** first tell Python to load it into your system **before** you use the library code. You can import an entire library, but normally you only import specific parts from that library. For this you use the `import` or `from ... import` command. You can also add `as` to give the library a short name if you want, as we do in the example below: `matplotlib.pyplot` is a pain to type so we give it the name `plt` for short. These are the libraries that we will be using today:"
   ]
  },
  {
   "cell_type": "code",
   "execution_count": null,
   "metadata": {},
   "outputs": [],
   "source": [
    "from PIL import Image\n",
    "from PIL import ImageOps\n",
    "from PIL import ImageChops\n",
    "import matplotlib.pyplot as plt"
   ]
  },
  {
   "cell_type": "markdown",
   "metadata": {},
   "source": [
    "## Lists\n",
    "\n",
    "Lists are a more complex type of data, but one that is very useful as it allows us to store a list of things in a single variable. To do this we use square brackets, with the contents of the list in the brackets separated by commas. We can have lists of anything we want: integers, decimal numbers, strings, images, ..."
   ]
  },
  {
   "cell_type": "code",
   "execution_count": null,
   "metadata": {},
   "outputs": [],
   "source": [
    "list1 = [1, 2, 3, 4, 5, 6, 7, 8, 9]\n",
    "list2 = [1.0, 2.6, 3.3, 4.7, 5.1, 6.7]\n",
    "list3 = ['a', 'b', 'c', 'd', 'e']\n",
    "list4 = ['bonjour', 'au revoir', 'ça va ?', 'très bien']\n",
    "\n",
    "print(list1)\n",
    "print(list2)\n",
    "print(list3)\n",
    "print(list4)"
   ]
  },
  {
   "cell_type": "markdown",
   "metadata": {},
   "source": [
    "At times we may want to access specific items in the list. To do this we use the following system:"
   ]
  },
  {
   "cell_type": "code",
   "execution_count": null,
   "metadata": {},
   "outputs": [],
   "source": [
    "list1[0]      # Gives us the first item in the list.\n",
    "list2[-1]     # Gives us the last item in the list\n",
    "list3[0:3]    # Gives us the first three items in the list\n",
    "list3[:3]     # Also gives us the first three items in the list\n",
    "list4[-3:]    # Gives us the last three items in the list\n",
    "list1[2:5]    # Gives us the third (!) through fifth items in the list\n",
    "\n",
    "# Let's test it:\n",
    "print(list1[0])      # Gives us the first item in the list.\n",
    "print(list2[-1])     # Gives us the last item in the list\n",
    "print(list3[0:3])    # Gives us the first three items in the list\n",
    "print(list3[:3])     # Also gives us the first three items in the list\n",
    "print(list4[-2:])    # Gives us the last two items in the list\n",
    "print(list1[2:5])    # Gives us the third (!) through fifth items in the list\n",
    "\n"
   ]
  },
  {
   "cell_type": "markdown",
   "metadata": {},
   "source": [
    "# The Python Imaging Library (PIL)\n",
    "\n",
    "The PIL gives us a lot of basic features for manipulating images. Here are some of the key ones. Remember that you must have already run the appropriate `import PIL` statement(s) before you use the commands. "
   ]
  },
  {
   "cell_type": "markdown",
   "metadata": {},
   "source": [
    "## Opening and saving image files; showing images\n",
    "\n",
    "To load and save images we need to tell Python where the image can be found. This can be a bit complicated as it depends on where you are running your code. It can also depend on whether or not you're using Windows, as Microsoft long ago decided to use the opposite convention to everyone else for directories (namely `\\` instead of `/`).\n",
    "\n",
    "**Be careful when saving images as you can easily overwrite your data by mistake**. If you try to save an image and a file exists already at that path and with that file name then **Python will simply overwrite your existing file without even asking**."
   ]
  },
  {
   "cell_type": "code",
   "execution_count": null,
   "metadata": {},
   "outputs": [],
   "source": [
    "# Loads the image 001.jpg in the directory CCCC 44 and store it in im\n",
    "im = Image.open('CCCC 44/001.jpg')\n",
    "\n",
    "# Show the image\n",
    "im.show()\n",
    "\n",
    "# Save the image with a different name\n",
    "im.save('newimage.jpg')"
   ]
  },
  {
   "cell_type": "markdown",
   "metadata": {},
   "source": [
    "## Getting basic image information\n",
    "\n",
    "This is straightforward. Here (and for the rest of this document) we assume that `im` is a variable containing an image using `Image.open()` as shown above."
   ]
  },
  {
   "cell_type": "code",
   "execution_count": null,
   "metadata": {},
   "outputs": [],
   "source": [
    "print('Image size:', im.size)\n",
    "print('Image height:', im.height)\n",
    "print('Image width:', im.width)\n",
    "print('Image format', im.format)\n",
    "print('Image mode:', im.mode)\n",
    "print('Image info:', im.info)"
   ]
  },
  {
   "cell_type": "markdown",
   "metadata": {},
   "source": [
    "## Rotation and reflection\n",
    "\n",
    "**Note that each of these operations creates a new image**. We store the result in a new variable. This is (usually) what we want as that means we keep the original image; otherwise we could store the result in the original variable, overwriting the original image."
   ]
  },
  {
   "cell_type": "code",
   "execution_count": null,
   "metadata": {},
   "outputs": [],
   "source": [
    "# Flip - i.e. mirror vertically\n",
    "image_flipped = ImageOps.flip(im)\n",
    "image_flipped.show('Flipped image')\n",
    "\n",
    "# Mirror - i.e. mirror horizontally\n",
    "image_mirror = ImageOps.mirror(im)\n",
    "image_mirror.show('Mirrored image')\n",
    "\n",
    "# Rotate. NB that rotation is anticlockwise\n",
    "image_rotate1 = im.rotate(45)\n",
    "image_rotate2 = im.rotate(-45)\n",
    "image_rotate_nocrop = im.rotate(135, expand=True)\n",
    "\n",
    "image_rotate1.show()\n",
    "image_rotate2.show()\n",
    "image_rotate_nocrop.show()"
   ]
  },
  {
   "cell_type": "markdown",
   "metadata": {},
   "source": [
    "## Resizing Images\n",
    "\n",
    "This works much the same way, except that we have to specify the size of the new image. Note that this can cause very distorted images, unless we do the calculations to preserve the image ratio."
   ]
  },
  {
   "cell_type": "code",
   "execution_count": null,
   "metadata": {},
   "outputs": [],
   "source": [
    "size = 400, 200\n",
    "\n",
    "image_resized = im.resize(size)\n",
    "\n",
    "image_resized.show()\n",
    "\n",
    "# Let's do this properly, calculating the image ratio\n",
    "new_height = 400\n",
    "\n",
    "new_width = int((400 / im.height) * im.width)\n",
    "\n",
    "size2 = (new_width, new_height)\n",
    "image_resized2 = im.resize(size2)\n",
    "image_resized2.show()"
   ]
  },
  {
   "cell_type": "markdown",
   "metadata": {},
   "source": [
    "### Creating thumbnails\n",
    "\n",
    "As well as `resize()` above, PIL provides a special way for creating thumbnails. If we want to create thumbnail images we first need to specify the size of the thumbnail. This is the maximum size in each dimension. In other words, the longest side of the image will be set to this maximum value, and the shorter side of the image will be scaled to whatever size is appropriate to keep the proportions right.\n",
    "\n",
    "**Note that the thumbnail operation does not create a new image but overwrites the old image**. For this reason we may well want to creat a copy of the original image so we can use it again later."
   ]
  },
  {
   "cell_type": "code",
   "execution_count": null,
   "metadata": {},
   "outputs": [],
   "source": [
    "size = 128, 128               # Set size to 128 pixels in both directions\n",
    "im_thumbnail = im.copy()      # Create a copy of the image\n",
    "im_thumbnail.thumbnail(size)  # Turn the image into a thumbnail\n",
    "\n",
    "im_thumbnail.show()\n",
    "im.show()"
   ]
  },
  {
   "cell_type": "markdown",
   "metadata": {},
   "source": [
    "## Basic image enhancement\n",
    "\n",
    "The PIL gives us some basic functions for image enhancement. These include the examples given below. Note that this time we are not creating a new variable for each image but we are re-using one variable."
   ]
  },
  {
   "cell_type": "code",
   "execution_count": null,
   "metadata": {},
   "outputs": [],
   "source": [
    "# Automatically enhance the contrast\n",
    "im_enhanced = ImageOps.autocontrast(im)\n",
    "im_enhanced.show()\n",
    "\n",
    "# Automatically adjust the histogram\n",
    "im_enhanced = ImageOps.equalize(im)\n",
    "im_enhanced.show()"
   ]
  },
  {
   "cell_type": "markdown",
   "metadata": {},
   "source": [
    "## Automatic batch processing of a set of images\n",
    "\n",
    "The easiest way to create an automatic batch process of a set of images is to use a `for` loop. For instance, if we have a set of images and we want to turn them all into thumbnails, we need to do the following:\n",
    "\n",
    "1. Create a list of image file names\n",
    "1. For each entry in the list:\n",
    "   1. Take the next file name from the list and store it in a variable\n",
    "   1. Load the image\n",
    "   1. Convert the image into a thumbnail\n",
    "   1. Save the image"
   ]
  },
  {
   "cell_type": "code",
   "execution_count": null,
   "metadata": {},
   "outputs": [],
   "source": [
    "# Create our list of image files\n",
    "im_list = ['001.jpg', '011.jpg', '016.jpg', '021.jpg']\n",
    "\n",
    "# Set our thumbnail size\n",
    "size = 128, 128\n",
    "\n",
    "# For each file in the list...\n",
    "for f in im_list:\n",
    "    im = Image.open('CCCC 44/' + f)\n",
    "    im.thumbnail(size)\n",
    "    im.save('CCCC 44/thumb_' + f)"
   ]
  },
  {
   "cell_type": "markdown",
   "metadata": {},
   "source": [
    "It's also possible to ask Python to read the contents of the directory automatically for us. We have to be a bit careful here because there may be different files in the directory, and if we try to read a text file (or Word document or whatever) and treat it as an image then we will get an error and our script will crash. To avoid this, we can try making assumptions such as reading only those files ending in `.jpg`. To do this we use the (rather oddly named) `glob` function to create the list.\n",
    "\n",
    "There is a further complication, though. The `glob` function gives us the file path, so the items in the list that `glob` gives us are `CCCC 44/001.jpg` and so on. This is what we want when we are opening the file. However, it makes things complicated when we want to _save_ the file, because if we save to `CCCC 44/001.jpg` then we will overwrite all our nice high-resolution files! Instead it's better to create a new directory, say `CCCC 44/thumb`, and save there. This means we need to do the following:\n",
    "\n",
    "1. Check if the `CCCC 44/thumb` directory already exists\n",
    "   1. If it doesn't exist then create it\n",
    "1. For each file in the `CCCC 44` directory:\n",
    "   1. Open the file and store it in RAM\n",
    "   1. Create the thumbnail\n",
    "   1. Get just the filename from the path, without the directory (so we have, for instance, '001.jpg' instead of 'CCCC 44/001.jpg')\n",
    "   1. Add 'CCCC 44/thumb/' back to the filename (so we have, for instance, CCCC 44 thumb/001.jpg')\n",
    "   1. Save the thumbnail to the new location\n",
    "   \n",
    "Fortunately there is a library called `os` that can help us a lot here."
   ]
  },
  {
   "cell_type": "code",
   "execution_count": null,
   "metadata": {},
   "outputs": [],
   "source": [
    "import glob\n",
    "import os\n",
    "\n",
    "# Set our thumbnail size\n",
    "size = 128, 128\n",
    "\n",
    "# Save our directory names here. This is so we don't have to keep\n",
    "# typing it out, and so that if we want to change it then we only\n",
    "# have to do so once.\n",
    "\n",
    "directory = 'CCCC 44/'\n",
    "outdirectory = directory + 'thumb/'\n",
    "\n",
    "# Check if the output directory exists and create it if it doesn't\n",
    "if not os.path.exists(outdirectory):\n",
    "    os.makedirs(outdirectory)\n",
    "    \n",
    "# Get a list of all files matching *.jpg in the directory\n",
    "im_list = glob.glob(directory + '*.jpg')\n",
    "\n",
    "# For each file in the list...\n",
    "for f in im_list:\n",
    "    im = Image.open(f)\n",
    "    im.thumbnail(size)\n",
    "    im.save(outdirectory + os.path.basename(f))"
   ]
  },
  {
   "cell_type": "markdown",
   "metadata": {},
   "source": [
    "See how fast that was! Of course we don't have to create thumbnails: we can change the code to do any operation or sequence of operations that we want."
   ]
  },
  {
   "cell_type": "markdown",
   "metadata": {},
   "source": [
    "## Image Histograms\n",
    "\n",
    "The PIL Image library also includes a function to generate the histogram. It returns a list of numbers, one number for each 'bin' in the histogram. If we want then we can create a plot of the histogram using a new library:"
   ]
  },
  {
   "cell_type": "code",
   "execution_count": 20,
   "metadata": {},
   "outputs": [
    {
     "data": {
      "image/png": "[encoded data removed]",
      "text/plain": [
       "<matplotlib.figure.Figure at 0x112c52668>"
      ]
     },
     "metadata": {},
     "output_type": "display_data"
    }
   ],
   "source": [
    "import matplotlib.pyplot as plt\n",
    "\n",
    "im = Image.open('CCCC 44/001.jpg')\n",
    "\n",
    "hist = im.histogram()\n",
    "plt.plot(hist)\n",
    "plt.show()"
   ]
  },
  {
   "cell_type": "markdown",
   "metadata": {},
   "source": [
    "This looks odd because PIL concatenates all the colour channels into one. To generate a 'normal' histogram for an RGB image, we have to slice the list into thirds, one for each colour channel:"
   ]
  },
  {
   "cell_type": "code",
   "execution_count": 21,
   "metadata": {},
   "outputs": [
    {
     "data": {
      "image/png": "[encoded data removed]",
      "text/plain": [
       "<matplotlib.figure.Figure at 0x1097e3518>"
      ]
     },
     "metadata": {},
     "output_type": "display_data"
    }
   ],
   "source": [
    "im = Image.open('CCCC 44/001.jpg')\n",
    "\n",
    "hist = im.histogram()\n",
    "\n",
    "length = len(hist) // 3   ## // is division but returning an integer (whole) number\n",
    "   \n",
    "plt.plot(hist[:length], 'r')\n",
    "plt.plot(hist[length:-length], 'g')\n",
    "plt.plot(hist[-length:], 'b')\n",
    "plt.show()\n"
   ]
  },
  {
   "cell_type": "code",
   "execution_count": null,
   "metadata": {},
   "outputs": [],
   "source": []
  }
 ],
 "metadata": {
  "kernelspec": {
   "display_name": "Python 3",
   "language": "python",
   "name": "python3"
  },
  "language_info": {
   "codemirror_mode": {
    "name": "ipython",
    "version": 3
   },
   "file_extension": ".py",
   "mimetype": "text/x-python",
   "name": "python",
   "nbconvert_exporter": "python",
   "pygments_lexer": "ipython3",
   "version": "3.6.4"
  }
 },
 "nbformat": 4,
 "nbformat_minor": 2
}
