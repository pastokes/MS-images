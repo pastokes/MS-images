{
 "cells": [
  {
   "cell_type": "markdown",
   "metadata": {},
   "source": [
    "**By Peter A. Stokes, École Pratique des Hautes Études – Université PSL**\n",
    "\n",
    "\n",
    "_These are brief notes summarising the key points of image analysis and manipulation using Python. They are intended as teaching aids for the course on 'Image Processing with Python' which is part of the École d'été d'éditions numériques / humanités numériques (EDEEN). For more details see https://edeen.sciencesconf.org. They assume a pre-existing directory structure with images of Cambridge, Corpus Christi College MS 44 which can be obtained from Parker on the Web: https://parker.stanford.edu_."
   ]
  },
  {
   "cell_type": "markdown",
   "metadata": {},
   "source": [
    "In a very interesting blog post, Jesse Hurlbut proposed different ways of calculating a 'manuscript average', by taking all the images of a complete manuscript and overlaying them on top of each other in different ways. Doing this shows very vividly the consistency (or lack thereof) in layout, and also highlights any specific pages which vary significantly from the norm. You can see the original blog post at http://jessehurlbut.net/wp/mssart/?page_id=2097\n",
    "\n",
    "The goal of this exercise is to write a program using PIL to create our own 'manuscript average' images using our own manuscripts. We have already learned everything we need to do this in the first exercise; we just need to put it all together."
   ]
  },
  {
   "cell_type": "markdown",
   "metadata": {},
   "source": [
    "# Step By Step...\n",
    "\n",
    "Let's go through the process step by step to begin with, and then we can put it all together at the end. This is always a good approach: to do things one bit at a time, testing along the way to make sure it all works, rather than trying to write everything at once and then having a real mess to sort out when things go wrong.\n",
    "\n",
    "## Setup and initialisation\n",
    "\n",
    "Very often, scripts consist of three parts: \n",
    "\n",
    "1. An initial part for importing libraries and setting up initial variables;\n",
    "1. A main central part for doing the 'heavy' processing;\n",
    "1. A final part for producing output (saving results, printing to the console, etc.)\n",
    "\n",
    "We can see this pattern in the code here. First, we import the necessary libraries, initialise some variables, and read in the list of files that we will be processing."
   ]
  },
  {
   "cell_type": "code",
   "execution_count": null,
   "metadata": {},
   "outputs": [],
   "source": [
    "from PIL import Image, ImageChops, ImageOps\n",
    "import os, glob\n",
    "\n",
    "directory = 'CCCC 44/'\n",
    "filelist = glob.glob(directory + '*.jpg')"
   ]
  },
  {
   "cell_type": "markdown",
   "metadata": {},
   "source": [
    "In order for the code to work properly, all the images need to be the same size. In practice the images are often slightly different sizes, so we will need to scale them. The problem is that we have to decide in advance what size all the images should be. Here, I've decided simply to find the smallest image and to scale all the other images to that. The procedure we follow is this:\n",
    "\n",
    "1. Set the initial minimum size to zero\n",
    "1. For each image file in the directory:\n",
    "   1. If the minimum size is still zero then set the minimum to the size of this image.\n",
    "   1. Otherwise, if the current image is smaller than the minimum size then save the current size as the minimum\n",
    "   1. Otherwise, if this image is bigger than the smallest so far, then ignore this image and go on to the next one.\n",
    "   \n",
    "The last two 'otherwise' can be rewritten as follows:\n",
    "\n",
    "1. Set the initial minimum size to zero\n",
    "1. For each image file in the directory:\n",
    "   1. If the minimum size is still zero then set the minimum to the size of this image.\n",
    "   1. Otherwise, set the current minimum to either the value it has now or to the size of the new image, whichever is smaller.\n",
    "   \n",
    "This is harder for us to understand but is a bit easier for the computer."
   ]
  },
  {
   "cell_type": "code",
   "execution_count": null,
   "metadata": {},
   "outputs": [],
   "source": [
    "minx = 0\n",
    "miny = 0\n",
    "\n",
    "for f in filelist:\n",
    "    im = Image.open(f)\n",
    "        \n",
    "    if (minx, miny) == (0,0):\n",
    "        minx, miny = im.size\n",
    "    else:\n",
    "        x, y = im.size\n",
    "        minx = min(x, minx)\n",
    "        miny = min(y, miny)"
   ]
  },
  {
   "cell_type": "markdown",
   "metadata": {},
   "source": [
    "Now we need to set up the images. We create two 'empty' images to which we will add all the images from our manuscript. The one for blending images should be entirely black to begin with, and the one for the `darker` operator should be black.\n",
    "\n",
    "We also need to decide what transparency value to use for the images. Ideally it makes sense to use an equal transparency for each image, with the total transparency at 100%. This means that if there are two images then each image should be 50% transparent; four images should be 25% and so on, so n images should have transparency of 1/n. There's a small problem here in that if the transparency is too small then the images seem to come out as black, so we have to set a minimum transparencey as well. A value of `0.01` seems to work, but feel free to try different values here."
   ]
  },
  {
   "cell_type": "code",
   "execution_count": null,
   "metadata": {},
   "outputs": [],
   "source": [
    "alpha = max(1.0/len(filelist), 0.01)\n",
    "    \n",
    "im_blend = Image.new('RGB', (minx, miny))\n",
    "im_dark = Image.new('RGB', (minx, miny), 'white')"
   ]
  },
  {
   "cell_type": "markdown",
   "metadata": {},
   "source": [
    "## Processing the images\n",
    "\n",
    "Now that we have set everything up, we can start processing the images. To begin with, let's figure out the process for a single image, and then we can put it all together into a loop.\n",
    "\n",
    "The first thing to do is to load in the image and resize it:"
   ]
  },
  {
   "cell_type": "code",
   "execution_count": null,
   "metadata": {},
   "outputs": [],
   "source": [
    "f = directory + '001.jpg'\n",
    "im = Image.open(f)\n",
    "\n",
    "im_rz = im.resize((minx, miny))"
   ]
  },
  {
   "cell_type": "markdown",
   "metadata": {},
   "source": [
    "We then need to see if the image is of a recto or a verso page. Normally, rectos and versos are mirrors of each other in terms of page layout (i.e. the left margin on a recto will match the right margin on a verso, and so on). For this reason we need to mirror all the recto pages (or all the versos) to make sure they lign up. In order to do this, we assume that the file name includes the necessary information:\n",
    "\n",
    "1. If the file name (excluding the extension) ends in 'v' then we assume it's a verso (e.g. 002v, 35v, etc.);\n",
    "1. If the file name ends in 'r' then we assume it's a recto (e.g. 215r, etc.)\n",
    "1. If the file name comprises a number, then we assume it refers to a page, and so:\n",
    "   1. If the number is odd then we assume it's a recto\n",
    "   1. If the number is even then we assume it's a verso\n",
    "\n",
    "In order to tell if a number is even or odd, we can use the _modulo_ operator, %. The modulo operator gives the remainder if the first number is divided by the second number. Therefore n % 2 will be zero if n is even, and will be one if n is odd. "
   ]
  },
  {
   "cell_type": "code",
   "execution_count": null,
   "metadata": {},
   "outputs": [],
   "source": [
    "# Get the basename without extension\n",
    "fol = os.path.splitext(os.path.basename(f))[0]\n",
    "\n",
    "# We need to flip all the versos (or all the rectos)\n",
    "# so that the page layout matches.\n",
    "if (fol.lower()[-1] == 'v'):\n",
    "    imfinal = ImageOps.mirror(im_rz)\n",
    "elif (fol.lower()[-1] == 'r'):\n",
    "    imfinal = im_rz\n",
    "elif (int(fol) % 2 == 0):\n",
    "    imfinal = ImageOps.mirror(im_rz)\n",
    "else:\n",
    "    imfinal = im_rz\n",
    "    \n",
    "im_rz.show()"
   ]
  },
  {
   "cell_type": "markdown",
   "metadata": {},
   "source": [
    "We can now combine the images. Like Jesse Hurlbut, we can use two different methods: `Image.blend` to blend the different images equally together, and `Image.darker` to preserve the darkest part of each image. We won't see much at this point, of course, because we only have one image, but we can have a look anyway just to make sure that something happened."
   ]
  },
  {
   "cell_type": "code",
   "execution_count": null,
   "metadata": {},
   "outputs": [],
   "source": [
    "im_blend = Image.blend(im_blend, imfinal, alpha)\n",
    "im_dark = ImageChops.darker(im_dark, imfinal)\n",
    "\n",
    "im_blend.show()\n",
    "im_dark.show()"
   ]
  },
  {
   "cell_type": "markdown",
   "metadata": {},
   "source": [
    "Now we want to put all of this together into a single loop. Notice that this follows the same pattern as we used for automatic batch processing of a set of images in Exercice 1.\n",
    "\n",
    "A loop like this might take a long time to run, so let's add some `print()` statements to tell the user that things are happening, and also because if there is a problem then this can help us understand where things went wrong."
   ]
  },
  {
   "cell_type": "code",
   "execution_count": null,
   "metadata": {},
   "outputs": [],
   "source": [
    "for f in filelist:\n",
    "    print('Reading image', f)\n",
    "    im = Image.open(f)\n",
    "\n",
    "    im_rz = im.resize((minx, miny))\n",
    "    \n",
    "    # Get the basename without extension\n",
    "    fol = os.path.splitext(os.path.basename(f))[0]\n",
    "\n",
    "    # We need to flip all the versos (or all the rectos)\n",
    "    # so that the page layout matches.\n",
    "    if (fol.lower()[-1] == 'v'):\n",
    "        imfinal = ImageOps.mirror(im_rz)\n",
    "    elif (fol.lower()[-1] == 'r'):\n",
    "        imfinal = im_rz\n",
    "    elif (int(fol) % 2 == 0):\n",
    "        imfinal = ImageOps.mirror(im_rz)\n",
    "    else:\n",
    "        imfinal = im_rz\n",
    "        \n",
    "    im_blend = Image.blend(im_blend, imfinal, alpha)\n",
    "    im_dark = ImageChops.darker(im_dark, imfinal)"
   ]
  },
  {
   "cell_type": "markdown",
   "metadata": {},
   "source": [
    "## The Output\n",
    "\n",
    "After this we now have our two 'manuscript average' images: one using the blending method and the other using the 'darker' method. All we need to do now is save the images.\n",
    "\n",
    "It turns out also that the 'blend' image is often very faint. This could probably be fixed by playing with the alpha values above, but we can also use PIL's automatic contrast adjust instead. "
   ]
  },
  {
   "cell_type": "code",
   "execution_count": null,
   "metadata": {},
   "outputs": [],
   "source": [
    "im_blend = ImageOps.autocontrast(im_blend)\n",
    "\n",
    "im_blend.save(directory + 'image_blend.png')\n",
    "im_dark.save(directory + 'image_dark.png')\n",
    "\n",
    "im_blend.show()\n",
    "im_dark.show()"
   ]
  },
  {
   "cell_type": "markdown",
   "metadata": {},
   "source": [
    "# Putting it All Together\n",
    "\n",
    "That's it! Those are all the steps we need. If we want then we can now put it all together into a single piece of code which you can copy and paste into a stand-alone script to run yourself if you want. Have fun making manuscript averages with your own images, and do also try changing and improving the code according to your own interests and needs."
   ]
  },
  {
   "cell_type": "code",
   "execution_count": null,
   "metadata": {},
   "outputs": [],
   "source": [
    "\"\"\"\n",
    "Basic script to create 'manuscript average' pages, based on discussion by Jesse\n",
    "Hurlbut at http://jessehurlbut.net/wp/mssart/?page_id=2097.\n",
    "\n",
    "This version assumes a directory of JPG images specified in the directory\n",
    "variable below.\n",
    "\n",
    "Created on Wed May 16 14:05:04 2018\n",
    "\n",
    "@author: Peter A. Stokes, École Pratique des Hautes Études – Université PSL\n",
    "\"\"\"\n",
    "\n",
    "\n",
    "from PIL import Image, ImageChops, ImageOps\n",
    "import os, glob\n",
    "\n",
    "directory = 'CCCC 44/'\n",
    "filelist = glob.glob(directory + '*.jpg')\n",
    "\n",
    "minx = 0\n",
    "miny = 0\n",
    "\n",
    "# First find the smallest image to resize to\n",
    "print('Reading image sizes...')\n",
    "for f in filelist:\n",
    "    im = Image.open(f)\n",
    "        \n",
    "    if (minx, miny) == (0,0):\n",
    "        minx, miny = im.size\n",
    "    else:\n",
    "        x, y = im.size\n",
    "        minx = min(x, minx)\n",
    "        miny = min(y, miny)\n",
    "        \n",
    "# Precalculate alpha to bring it out of the inner loop below\n",
    "# The alpha seems to have a minimum value below which the images are black\n",
    "alpha = max(1.0/len(filelist), 0.01)\n",
    "    \n",
    "im_blend = Image.new('RGB', (minx, miny))\n",
    "im_dark = Image.new('RGB', (minx, miny), 'white')\n",
    "\n",
    "for f in filelist:\n",
    "    print('Reading image', f)\n",
    "    im = Image.open(f)\n",
    "\n",
    "    im_rz = im.resize((minx, miny))\n",
    "    \n",
    "    # Get the basename without extension\n",
    "    fol = os.path.splitext(os.path.basename(f))[0]\n",
    "\n",
    "    # We need to flip all the versos (or all the rectos)\n",
    "    # so that the page layout matches.\n",
    "    if (fol.lower()[-1] == 'v'):\n",
    "        # Profiling suggests that ImageOps.mirror is slightly faster than Image.transpose\n",
    "        imfinal = ImageOps.mirror(im_rz)\n",
    "    elif (fol.lower()[-1] == 'r'):\n",
    "        imfinal = im_rz\n",
    "    elif (int(fol) % 2 == 0):\n",
    "        imfinal = ImageOps.mirror(im_rz)\n",
    "    else:\n",
    "        imfinal = im_rz\n",
    "        \n",
    "    im_blend = Image.blend(im_blend, imfinal, alpha)\n",
    "    im_dark = ImageChops.darker(im_dark, imfinal)\n",
    "\n",
    "# The blended image tends to be very faint, so let's enhance the contrast\n",
    "im_blend = ImageOps.autocontrast(im_blend)\n",
    "\n",
    "im_blend.save(directory + 'image_blend.png')\n",
    "im_dark.save(directory + 'image_dark.png')\n",
    "\n",
    "im_blend.show()\n",
    "im_dark.show()"
   ]
  },
  {
   "cell_type": "markdown",
   "metadata": {},
   "source": [
    "---\n",
    "![Licence Creative Commons](https://i.creativecommons.org/l/by/4.0/88x31.png)\n",
    "This work (the contents of this Jupyter Python notebook) is licenced under a [Creative Commons Attribution 4.0 International](http://creativecommons.org/licenses/by/4.0/)"
   ]
  }
 ],
 "metadata": {
  "kernelspec": {
   "display_name": "Python 3",
   "language": "python",
   "name": "python3"
  },
  "language_info": {
   "codemirror_mode": {
    "name": "ipython",
    "version": 3
   },
   "file_extension": ".py",
   "mimetype": "text/x-python",
   "name": "python",
   "nbconvert_exporter": "python",
   "pygments_lexer": "ipython3",
   "version": "3.6.4"
  }
 },
 "nbformat": 4,
 "nbformat_minor": 2
}
